{
 "cells": [
  {
   "cell_type": "markdown",
   "id": "54fe7f1e",
   "metadata": {},
   "source": [
    "**Required Packages needed for the Models**"
   ]
  },
  {
   "cell_type": "code",
   "execution_count": 36,
   "id": "d7773557",
   "metadata": {},
   "outputs": [],
   "source": [
    "import numpy as np\n",
    "import seaborn as sn\n",
    "import matplotlib.pyplot as plt\n",
    "import tensorflow as tf\n",
    "from tensorflow.keras.preprocessing.image import ImageDataGenerator\n",
    "from tensorflow.keras.preprocessing import image_dataset_from_directory\n",
    "from tensorflow.keras.models import Sequential \n",
    "from tensorflow.keras.layers import InputLayer, BatchNormalization, Dropout, Flatten, Dense, Activation, MaxPooling2D, Conv2D\n",
    "from tensorflow.keras.callbacks import LearningRateScheduler\n",
    "from tensorflow.keras.metrics import BinaryAccuracy, Precision, Recall, AUC\n",
    "from tensorflow.keras.losses import CategoricalCrossentropy\n",
    "from skimage.io import imread, imshow\n",
    "from skimage.transform import resize\n"
   ]
  },
  {
   "cell_type": "markdown",
   "id": "6577592f",
   "metadata": {},
   "source": [
    "**Image Preproccessing**"
   ]
  },
  {
   "cell_type": "code",
   "execution_count": null,
   "id": "3b5bd305",
   "metadata": {},
   "outputs": [],
   "source": [
    "def images_by_class(path,folders):\n",
    "    \"\"\"\n",
    "    Loop through the path/folders count the number and proportions of each class\n",
    "    \"\"\"\n",
    "    \n",
    "    # accumulators\n",
    "    normal,verymild,mild,moderate =0,0,0,0\n",
    "    \n",
    "    # print header\n",
    "    msg = '{:8} {:8} {:11} {:7} {:9} {:9} {:11} {:8} {:8}'.format('folder','normal','verymild','mild','moderate',\n",
    "                                                        'normal %','verymild %','mild %','moderate %')\n",
    "    print(msg)  \n",
    "    print(\"-\"*len(msg))\n",
    "    \n",
    "    for folder in FOLDERS:\n",
    "        for dirname,_, filenames in os.walk(os.path.join(path,folder)):\n",
    "            for file in filenames:\n",
    "                if \"NonDemented\" in dirname:\n",
    "                    normal+=1\n",
    "                if \"VeryMildDemented\" in dirname:\n",
    "                    verymild+=1\n",
    "                if 'MildDemented' in dirname:\n",
    "                    mild+=1\n",
    "                if 'ModerateDemented' in dirname:\n",
    "                    moderate+=1\n",
    "                    \n",
    "        # calculate total and percentages            \n",
    "        total = normal+verymild+mild+moderate\n",
    "        if total >0:\n",
    "            n  = round(normal/total,2)*100\n",
    "            vm = round(verymild/total,2)*100\n",
    "            m  = round(mild/total,2)*100\n",
    "            mo =round(moderate/total,2)*100\n",
    "        else:\n",
    "            n,vm,m,mo = 0,0,0,0\n",
    "        \n",
    "        print(\"{:6} {:8} {:10} {:7} {:11} {:8} {:10} {:8} {:12}\".format(folder,normal,verymild,mild,moderate,n,vm,m,mo))\n",
    "        normal,verymild,mild,moderate =0,0,0,0\n",
    "\n",
    "# Images by class in the input directory\n",
    "images_by_class(DIR_INPUT,FOLDERS) "
   ]
  },
  {
   "cell_type": "code",
   "execution_count": 12,
   "id": "0bfdb8b3",
   "metadata": {},
   "outputs": [],
   "source": [
    "train_images = ImageDataGenerator(rescale= 1./255,\n",
    "                                 rotation_range = 20, \n",
    "                                 width_shift_range=0.2,\n",
    "                                 height_shift_range=0.2,\n",
    "                                 horizontal_flip=True,\n",
    "                                 validation_split=0.2)\n",
    "test_images = ImageDataGenerator( rescale = 1./255\n",
    "                                )"
   ]
  },
  {
   "cell_type": "code",
   "execution_count": 17,
   "id": "02c60f60",
   "metadata": {},
   "outputs": [
    {
     "name": "stdout",
     "output_type": "stream",
     "text": [
      "Found 5121 images belonging to 4 classes.\n",
      "Found 5121 images belonging to 4 classes.\n",
      "Found 1279 images belonging to 4 classes.\n"
     ]
    }
   ],
   "source": [
    "train_data = train_images.flow_from_directory(directory=\"/Users/williamjones/Downloads/AlzheimerDataset/train\", \n",
    "                                             target_size=(224, 224), \n",
    "                                             batch_size = 25, \n",
    "                                             class_mode = 'categorical'\n",
    "                                             )\n",
    "\n",
    "vaild_data = train_images.flow_from_directory(directory=\"/Users/williamjones/Downloads/AlzheimerDataset/train\",\n",
    "                                             target_size=(224, 224), \n",
    "                                             batch_size = 25, \n",
    "                                             class_mode = 'categorical'\n",
    "                                             )\n",
    "test_data = test_images.flow_from_directory(directory=\"/Users/williamjones/Downloads/AlzheimerDataset/test\", \n",
    "                                           target_size = (224, 224), \n",
    "                                           batch_size = 25, \n",
    "                                           class_mode= 'categorical', \n",
    "                                           )"
   ]
  },
  {
   "cell_type": "code",
   "execution_count": null,
   "id": "b9ef666a",
   "metadata": {},
   "outputs": [],
   "source": []
  },
  {
   "cell_type": "code",
   "execution_count": null,
   "id": "eea97588",
   "metadata": {},
   "outputs": [],
   "source": []
  },
  {
   "cell_type": "markdown",
   "id": "22024104",
   "metadata": {},
   "source": [
    "**LSTM CNN**"
   ]
  },
  {
   "cell_type": "code",
   "execution_count": 6,
   "id": "53a13ade",
   "metadata": {},
   "outputs": [
    {
     "name": "stdout",
     "output_type": "stream",
     "text": [
      "<keras.engine.sequential.Sequential object at 0x176572250>\n"
     ]
    },
    {
     "ename": "AttributeError",
     "evalue": "'NoneType' object has no attribute 'summary'",
     "output_type": "error",
     "traceback": [
      "\u001b[0;31m---------------------------------------------------------------------------\u001b[0m",
      "\u001b[0;31mAttributeError\u001b[0m                            Traceback (most recent call last)",
      "Cell \u001b[0;32mIn [6], line 35\u001b[0m\n\u001b[1;32m     28\u001b[0m     \u001b[38;5;66;03m#LSTM part\u001b[39;00m\n\u001b[1;32m     29\u001b[0m     \u001b[38;5;66;03m#model = Sequential()\u001b[39;00m\n\u001b[1;32m     30\u001b[0m     \u001b[38;5;66;03m#model.add(TimeDistributed(cnn, ...))\u001b[39;00m\n\u001b[1;32m     31\u001b[0m     \u001b[38;5;66;03m#model.add(LSTM(...)\u001b[39;00m\n\u001b[1;32m     32\u001b[0m     \u001b[38;5;66;03m#model.add(Dense(4))\u001b[39;00m\n\u001b[1;32m     34\u001b[0m model \u001b[38;5;241m=\u001b[39m build_model()\n\u001b[0;32m---> 35\u001b[0m \u001b[43mmodel\u001b[49m\u001b[38;5;241;43m.\u001b[39;49m\u001b[43msummary\u001b[49m\n",
      "\u001b[0;31mAttributeError\u001b[0m: 'NoneType' object has no attribute 'summary'"
     ]
    }
   ],
   "source": [
    "#Option1 define cnn and then add to LSTM\n",
    "def build_model_lstmcnn():\n",
    "    #cnn\n",
    "    cnn = Sequential()\n",
    "    \n",
    "    cnn.add(Conv2D(16, (3, 3), padding='same', input_shape= (224, 224, 3), activation='relu'))\n",
    "    #cnn.add(Dropout()())\n",
    "    cnn.add(Conv2D(32, (3, 3), padding='same', activation='relu'))\n",
    "    cnn.add(MaxPooling2D(pool_size=(2, 2), strides=2, padding='same'))\n",
    "    \n",
    "    cnn.add(Conv2D(32, (3, 3,), padding='same', activation='relu'))\n",
    "    #cnn.add(Dropout()())\n",
    "    cnn.add(Conv2D(64, (3, 3,), padding='same', activation='relu'))\n",
    "    cnn.add(MaxPooling2D(pool_size=(2, 2), strides=2, padding='same'))\n",
    "    \n",
    "    cnn.add(Conv2D(64, (3, 3,), padding='same', activation='relu'))\n",
    "    #cnn.add(Dropout()())\n",
    "    cnn.add(Conv2D(128, (3, 3,), padding='same', activation='relu'))\n",
    "    cnn.add(MaxPooling2D(pool_size=(2, 2), strides=2, padding='same'))\n",
    "    \n",
    "    cnn.add(Conv2D(128, (3, 3,), padding='same', activation='relu'))\n",
    "    #cnn.add(Dropout()())\n",
    "    cnn.add(Conv2D(256, (3, 3,), padding='same', activation='relu'))\n",
    "    cnn.add(MaxPooling2D(pool_size=(2, 2), strides=2, padding='same'))\n",
    "    \n",
    "    cnn.add(Flatten())\n",
    "    \n",
    "    #LSTM part\n",
    "    #model = Sequential()\n",
    "    #model.add(TimeDistributed(cnn, ...))\n",
    "    #model.add(LSTM(...)\n",
    "    #model.add(Dense(4))\n",
    "              \n",
    "model = build_model_lstmcnn()\n",
    "model.summary"
   ]
  },
  {
   "cell_type": "markdown",
   "id": "09eda3d8",
   "metadata": {},
   "source": [
    "**CNN**"
   ]
  },
  {
   "cell_type": "code",
   "execution_count": 28,
   "id": "6d3f734f",
   "metadata": {},
   "outputs": [
    {
     "name": "stdout",
     "output_type": "stream",
     "text": [
      "Model: \"sequential_10\"\n",
      "_________________________________________________________________\n",
      " Layer (type)                Output Shape              Param #   \n",
      "=================================================================\n",
      " conv2d_80 (Conv2D)          (None, 224, 224, 16)      448       \n",
      "                                                                 \n",
      " conv2d_81 (Conv2D)          (None, 224, 224, 32)      4640      \n",
      "                                                                 \n",
      " max_pooling2d_40 (MaxPoolin  (None, 112, 112, 32)     0         \n",
      " g2D)                                                            \n",
      "                                                                 \n",
      " conv2d_82 (Conv2D)          (None, 112, 112, 32)      9248      \n",
      "                                                                 \n",
      " conv2d_83 (Conv2D)          (None, 112, 112, 64)      18496     \n",
      "                                                                 \n",
      " max_pooling2d_41 (MaxPoolin  (None, 56, 56, 64)       0         \n",
      " g2D)                                                            \n",
      "                                                                 \n",
      " conv2d_84 (Conv2D)          (None, 56, 56, 64)        36928     \n",
      "                                                                 \n",
      " conv2d_85 (Conv2D)          (None, 56, 56, 128)       73856     \n",
      "                                                                 \n",
      " max_pooling2d_42 (MaxPoolin  (None, 28, 28, 128)      0         \n",
      " g2D)                                                            \n",
      "                                                                 \n",
      " conv2d_86 (Conv2D)          (None, 28, 28, 128)       147584    \n",
      "                                                                 \n",
      " conv2d_87 (Conv2D)          (None, 28, 28, 256)       295168    \n",
      "                                                                 \n",
      " max_pooling2d_43 (MaxPoolin  (None, 14, 14, 256)      0         \n",
      " g2D)                                                            \n",
      "                                                                 \n",
      " flatten_10 (Flatten)        (None, 50176)             0         \n",
      "                                                                 \n",
      " dense_55 (Dense)            (None, 512)               25690624  \n",
      "                                                                 \n",
      " batch_normalization_40 (Bat  (None, 512)              2048      \n",
      " chNormalization)                                                \n",
      "                                                                 \n",
      " dropout (Dropout)           (None, 512)               0         \n",
      "                                                                 \n",
      " dense_56 (Dense)            (None, 256)               131328    \n",
      "                                                                 \n",
      " batch_normalization_41 (Bat  (None, 256)              1024      \n",
      " chNormalization)                                                \n",
      "                                                                 \n",
      " dropout_1 (Dropout)         (None, 256)               0         \n",
      "                                                                 \n",
      " dense_57 (Dense)            (None, 128)               32896     \n",
      "                                                                 \n",
      " batch_normalization_42 (Bat  (None, 128)              512       \n",
      " chNormalization)                                                \n",
      "                                                                 \n",
      " dropout_2 (Dropout)         (None, 128)               0         \n",
      "                                                                 \n",
      " dense_58 (Dense)            (None, 64)                8256      \n",
      "                                                                 \n",
      " batch_normalization_43 (Bat  (None, 64)               256       \n",
      " chNormalization)                                                \n",
      "                                                                 \n",
      " dropout_3 (Dropout)         (None, 64)                0         \n",
      "                                                                 \n",
      " dense_59 (Dense)            (None, 32)                2080      \n",
      "                                                                 \n",
      " batch_normalization_44 (Bat  (None, 32)               128       \n",
      " chNormalization)                                                \n",
      "                                                                 \n",
      " dropout_4 (Dropout)         (None, 32)                0         \n",
      "                                                                 \n",
      " dense_60 (Dense)            (None, 4)                 132       \n",
      "                                                                 \n",
      "=================================================================\n",
      "Total params: 26,455,652\n",
      "Trainable params: 26,453,668\n",
      "Non-trainable params: 1,984\n",
      "_________________________________________________________________\n"
     ]
    }
   ],
   "source": [
    "\n",
    "\n",
    "def build_model_cnn():\n",
    "    model = Sequential()\n",
    "    \n",
    "    model.add(Conv2D(16, (3, 3), padding='same', input_shape= (224, 224, 3), activation='relu'))\n",
    "    model.add(Conv2D(32, (3, 3), padding='same', activation='relu'))\n",
    "    model.add(MaxPooling2D(pool_size=(2, 2), strides=2, padding='same'))\n",
    "    \n",
    "    model.add(Conv2D(32, (3, 3,), padding='same', activation='relu'))\n",
    "    model.add(Conv2D(64, (3, 3,), padding='same', activation='relu'))\n",
    "    model.add(MaxPooling2D(pool_size=(2, 2), strides=2, padding='same'))\n",
    "    \n",
    "    model.add(Conv2D(64, (3, 3,), padding='same', activation='relu'))\n",
    "    model.add(Conv2D(128, (3, 3,), padding='same', activation='relu'))\n",
    "    model.add(MaxPooling2D(pool_size=(2, 2), strides=2, padding='same'))\n",
    "    \n",
    "    model.add(Conv2D(128, (3, 3,), padding='same', activation='relu'))\n",
    "    model.add(Conv2D(256, (3, 3,), padding='same', activation='relu'))\n",
    "    model.add(MaxPooling2D(pool_size=(2, 2), strides=2, padding='same'))\n",
    "    \n",
    "    model.add(Flatten())\n",
    "    \n",
    "    model.add(Dense(512, activation='relu'))\n",
    "    model.add(BatchNormalization())\n",
    "    model.add(Dropout(0.5))\n",
    "    \n",
    "    model.add(Dense(256, activation='relu'))\n",
    "    model.add(BatchNormalization())\n",
    "    model.add(Dropout(0.5))\n",
    "    \n",
    "    model.add(Dense(128, activation='relu'))\n",
    "    model.add(BatchNormalization())\n",
    "    model.add(Dropout(0.5))\n",
    "    \n",
    "    model.add(Dense(64, activation='relu'))\n",
    "    model.add(BatchNormalization())\n",
    "    model.add(Dropout(0.5))\n",
    "    \n",
    "    model.add(Dense(32, activation='relu'))\n",
    "    model.add(BatchNormalization())\n",
    "    model.add(Dropout(0.5))\n",
    "    \n",
    "    model.add(Dense(4, activation='softmax'))\n",
    "    \n",
    "    return model\n",
    "\n",
    "model = build_model_cnn()\n",
    "\n",
    "model.summary()\n",
    "    "
   ]
  },
  {
   "cell_type": "code",
   "execution_count": 33,
   "id": "b7868136",
   "metadata": {},
   "outputs": [],
   "source": [
    "model.compile(optimizer='adam',\n",
    "              loss=CategoricalCrossentropy(), \n",
    "              metrics=[BinaryAccuracy(name=\"accuarcy\"), Precision(name=\"precision\"), AUC(name=\"auc\")])"
   ]
  },
  {
   "cell_type": "code",
   "execution_count": null,
   "id": "d7bf588f",
   "metadata": {},
   "outputs": [
    {
     "name": "stdout",
     "output_type": "stream",
     "text": [
      "Epoch 1/15\n"
     ]
    },
    {
     "name": "stderr",
     "output_type": "stream",
     "text": [
      "2022-11-15 11:07:22.007392: W tensorflow/core/platform/profile_utils/cpu_utils.cc:128] Failed to get CPU frequency: 0 Hz\n"
     ]
    },
    {
     "name": "stdout",
     "output_type": "stream",
     "text": [
      "205/205 [==============================] - 205s 994ms/step - loss: 1.2025 - accuarcy: 0.7458 - precision: 0.4834 - auc: 0.7423 - val_loss: 1.0215 - val_accuarcy: 0.7700 - val_precision: 0.6303 - val_auc: 0.7905 - lr: 0.0100\n",
      "Epoch 2/15\n",
      "205/205 [==============================] - 204s 997ms/step - loss: 1.0151 - accuarcy: 0.7743 - precision: 0.6234 - auc: 0.7993 - val_loss: 1.0345 - val_accuarcy: 0.7500 - val_precision: 0.6667 - val_auc: 0.8085 - lr: 0.0025\n",
      "Epoch 3/15\n",
      "205/205 [==============================] - 204s 996ms/step - loss: 0.9792 - accuarcy: 0.7857 - precision: 0.6730 - auc: 0.8139 - val_loss: 1.3465 - val_accuarcy: 0.7499 - val_precision: 0.0000e+00 - val_auc: 0.7553 - lr: 6.3096e-04\n",
      "Epoch 4/15\n",
      "205/205 [==============================] - ETA: 0s - loss: 0.9654 - accuarcy: 0.7885 - precision: 0.6879 - auc: 0.8194"
     ]
    }
   ],
   "source": [
    "def exponential_decay(l, s):\n",
    "    def ed(epoch):\n",
    "        return l * 0.001 **(epoch / s)\n",
    "    return ed\n",
    "\n",
    "ed = exponential_decay(0.01, 5)\n",
    "\n",
    "model.fit(train_data, \n",
    "         validation_data=vaild_data, \n",
    "         epochs=15,\n",
    "         callbacks= LearningRateScheduler(ed)\n",
    "         )"
   ]
  },
  {
   "cell_type": "markdown",
   "id": "1f0b6176",
   "metadata": {},
   "source": [
    "**LSTM**"
   ]
  },
  {
   "cell_type": "code",
   "execution_count": null,
   "id": "03a036c6",
   "metadata": {},
   "outputs": [],
   "source": [
    "def build_model_lstm():\n",
    "    \n",
    "    model.add(TimeDistributed(...))\n",
    "    model.add(LSTM(...)\n",
    "    model.add(Dense(...))\n",
    "            "
   ]
  },
  {
   "cell_type": "markdown",
   "id": "03756834",
   "metadata": {},
   "source": [
    "**Comparison**"
   ]
  },
  {
   "cell_type": "code",
   "execution_count": null,
   "id": "b931d0ed",
   "metadata": {},
   "outputs": [],
   "source": [
    "fig, ax = plt.subplots(3, 3)\n",
    "ax.plot()\n",
    "ax.plot()\n",
    "ax.plot()\n",
    "ax.plot()\n",
    "ax.plot()\n",
    "\n",
    "plt.xlabel()\n",
    "plt.ylabel()\n",
    "plt.title()\n",
    "\n",
    "\n"
   ]
  }
 ],
 "metadata": {
  "kernelspec": {
   "display_name": "Python 3 (ipykernel)",
   "language": "python",
   "name": "python3"
  },
  "language_info": {
   "codemirror_mode": {
    "name": "ipython",
    "version": 3
   },
   "file_extension": ".py",
   "mimetype": "text/x-python",
   "name": "python",
   "nbconvert_exporter": "python",
   "pygments_lexer": "ipython3",
   "version": "3.10.8"
  }
 },
 "nbformat": 4,
 "nbformat_minor": 5
}
